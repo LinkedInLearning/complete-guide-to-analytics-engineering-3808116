{
 "cells": [
  {
   "cell_type": "code",
   "execution_count": 2,
   "id": "32e7ebfc",
   "metadata": {},
   "outputs": [],
   "source": [
    "import pandas as pd \n",
    "\n",
    "df = pd.read_csv('us_sales_statistics_by_associate.csv')"
   ]
  },
  {
   "cell_type": "code",
   "execution_count": 1,
   "id": "d100f15a",
   "metadata": {},
   "outputs": [],
   "source": [
    "import sqlite3\n",
    "conn = sqlite3.connect('database.db')"
   ]
  },
  {
   "cell_type": "code",
   "execution_count": 4,
   "id": "2e743b34",
   "metadata": {},
   "outputs": [
    {
     "data": {
      "text/plain": [
       "44"
      ]
     },
     "execution_count": 4,
     "metadata": {},
     "output_type": "execute_result"
    }
   ],
   "source": [
    "df.to_sql('sales_statistics_by_associate', conn, if_exists='replace',index=False)"
   ]
  },
  {
   "cell_type": "code",
   "execution_count": 1,
   "id": "02476e4c",
   "metadata": {},
   "outputs": [
    {
     "name": "stdout",
     "output_type": "stream",
     "text": [
      "Loaded us_sales_statistics_by_associate.csv into the database as us_sales_statistics_by_associate\n",
      "Loaded red_30_tech_us_sales_regions.csv into the database as red_30_tech_us_sales_regions\n",
      "Loaded red_30_tech_us_sales_cleaned.csv into the database as red_30_tech_us_sales_cleaned\n",
      "Loaded red_30_tech_us_sales.csv into the database as red_30_tech_us_sales\n",
      "Loaded red_30_tech_us_sales_associates.csv into the database as red_30_tech_us_sales_associates\n",
      "Loaded red_30_tech_us_customer_info.csv into the database as red_30_tech_us_customer_info\n",
      "Loaded red_30_tech_us_product_info.csv into the database as red_30_tech_us_product_info\n"
     ]
    }
   ],
   "source": [
    "import pandas as pd\n",
    "import sqlite3\n",
    "import os\n",
    "\n",
    "conn = sqlite3.connect('database.db')\n",
    "\n",
    "csv_directory = '/workspaces/complete-guide-to-analytics-engineering-3808116/csv_files'\n",
    "\n",
    "for filename in os.listdir(csv_directory):\n",
    "    if filename.endswith('.csv'):\n",
    "        file_path = os.path.join(csv_directory, filename)\n",
    "        df = pd.read_csv(file_path)\n",
    "\n",
    "        table_name = filename.replace('.csv', '')\n",
    "\n",
    "        df.to_sql(table_name, conn, if_exists='replace', index=False)\n",
    "        print(f\"Loaded {filename} into the database as {table_name}\")\n",
    "\n",
    "conn.close()"
   ]
  }
 ],
 "metadata": {
  "kernelspec": {
   "display_name": "Python 3",
   "language": "python",
   "name": "python3"
  },
  "language_info": {
   "codemirror_mode": {
    "name": "ipython",
    "version": 3
   },
   "file_extension": ".py",
   "mimetype": "text/x-python",
   "name": "python",
   "nbconvert_exporter": "python",
   "pygments_lexer": "ipython3",
   "version": "3.12.1"
  }
 },
 "nbformat": 4,
 "nbformat_minor": 5
}
