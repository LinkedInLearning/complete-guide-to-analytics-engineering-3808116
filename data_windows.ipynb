{
 "cells": [
  {
   "cell_type": "code",
   "execution_count": 1,
   "id": "bd03582d",
   "metadata": {},
   "outputs": [],
   "source": [
    "import pandas as pd\n",
    "\n",
    "df = pd.read_csv('red_30_tech_us_sales_cleaned.csv', parse_dates=['OrderDate'])"
   ]
  },
  {
   "cell_type": "code",
   "execution_count": null,
   "id": "1b40480e",
   "metadata": {},
   "outputs": [
    {
     "name": "stdout",
     "output_type": "stream",
     "text": [
      "            OrderTotal  RollingAvg_OrderTotal\n",
      "OrderMonth                                   \n",
      "2017-09-01   227995.61                    NaN\n",
      "2017-10-01   259003.31                    NaN\n",
      "2017-11-01   167904.64                    NaN\n",
      "2017-12-01   345240.25                    NaN\n",
      "2018-01-01   243816.27                    NaN\n",
      "2018-02-01   480259.33          287369.901667\n",
      "2018-03-01   335797.77          305336.928333\n",
      "2018-04-01   164405.34          289570.600000\n",
      "2018-05-01   250448.35          303327.885000\n",
      "2018-06-01   223363.37          283015.071667\n",
      "2018-07-01   237469.02          281957.196667\n",
      "2018-08-01   358373.77          261642.936667\n",
      "2018-09-01   256604.50          248444.058333\n",
      "2018-10-01   208422.55          255780.260000\n",
      "2018-11-01   377405.95          276939.860000\n",
      "2018-12-01   175261.87          268922.943333\n",
      "2019-01-01   358510.17          289096.468333\n",
      "2019-02-01   399393.91          295933.158333\n",
      "2019-03-01   294956.73          302325.196667\n",
      "2019-04-01   321009.62          321089.708333\n"
     ]
    }
   ],
   "source": [
    "df['OrderDate'] = pd.to_datetime(df['OrderDate'])\n",
    "\n",
    "df['OrderMonth'] = df['OrderDate'].dt.to_period('M')\n",
    "\n",
    "monthly_totals = df.groupby('OrderMonth')['OrderTotal'].sum().reset_index()\n",
    "\n",
    "monthly_totals['OrderMonth'] = monthly_totals['OrderMonth'].dt.to_timestamp()\n",
    "\n",
    "monthly_totals.set_index('OrderMonth', inplace=True)\n",
    "\n",
    "window_size = 6\n",
    "monthly_totals['RollingAvg_OrderTotal'] = monthly_totals['OrderTotal'].rolling(window=window_size).mean()\n",
    "\n",
    "print(monthly_totals.head(20))"
   ]
  },
  {
   "cell_type": "code",
   "execution_count": 4,
   "id": "31424db4",
   "metadata": {},
   "outputs": [
    {
     "name": "stdout",
     "output_type": "stream",
     "text": [
      "            OrderTotal  RollingAvg_OrderTotal  CumulativeSales\n",
      "OrderMonth                                                    \n",
      "2019-01-01   358510.17          289096.468333        358510.17\n",
      "2019-02-01   399393.91          295933.158333        757904.08\n",
      "2019-03-01   294956.73          302325.196667       1052860.81\n",
      "2019-04-01   321009.62          321089.708333       1373870.43\n",
      "2019-05-01   315400.87          310755.528333       1689271.30\n",
      "2019-06-01   200743.29          315002.431667       1890014.59\n",
      "2019-07-01   225378.27          292813.781667       2115392.86\n",
      "2019-08-01   472064.30          304925.513333       2587457.16\n"
     ]
    },
    {
     "name": "stderr",
     "output_type": "stream",
     "text": [
      "/tmp/ipykernel_15236/1270043690.py:4: SettingWithCopyWarning: \n",
      "A value is trying to be set on a copy of a slice from a DataFrame.\n",
      "Try using .loc[row_indexer,col_indexer] = value instead\n",
      "\n",
      "See the caveats in the documentation: https://pandas.pydata.org/pandas-docs/stable/user_guide/indexing.html#returning-a-view-versus-a-copy\n",
      "  year_2019['CumulativeSales'] = year_2019['OrderTotal'].cumsum()\n"
     ]
    }
   ],
   "source": [
    "year_2019 = monthly_totals.loc['2019']\n",
    "\n",
    "# Calculate cumulative sales for the year 2019\n",
    "year_2019['CumulativeSales'] = year_2019['OrderTotal'].cumsum()\n",
    "\n",
    "print(year_2019)"
   ]
  }
 ],
 "metadata": {
  "kernelspec": {
   "display_name": "Python 3",
   "language": "python",
   "name": "python3"
  },
  "language_info": {
   "codemirror_mode": {
    "name": "ipython",
    "version": 3
   },
   "file_extension": ".py",
   "mimetype": "text/x-python",
   "name": "python",
   "nbconvert_exporter": "python",
   "pygments_lexer": "ipython3",
   "version": "3.12.1"
  }
 },
 "nbformat": 4,
 "nbformat_minor": 5
}
