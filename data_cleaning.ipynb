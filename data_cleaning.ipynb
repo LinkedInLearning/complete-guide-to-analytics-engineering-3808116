{
 "cells": [
  {
   "cell_type": "code",
   "execution_count": 1,
   "metadata": {},
   "outputs": [],
   "source": [
    "import pandas as pd \n",
    "\n",
    "df = pd.read_csv('red_30_tech_us_sales.csv')"
   ]
  },
  {
   "cell_type": "code",
   "execution_count": 2,
   "metadata": {},
   "outputs": [],
   "source": [
    "df['OrderTotal'] = df['OrderTotal'].astype(str).str.replace(r'[\\s\"$#,]', '', regex=True).astype(float)"
   ]
  },
  {
   "cell_type": "code",
   "execution_count": 3,
   "metadata": {},
   "outputs": [
    {
     "name": "stdout",
     "output_type": "stream",
     "text": [
      "0          44.95\n",
      "1          48.90\n",
      "2         950.00\n",
      "3         250.00\n",
      "4          13.99\n",
      "          ...   \n",
      "4971       24.95\n",
      "4972    30960.00\n",
      "4973      313.09\n",
      "4974     1285.20\n",
      "4975     2871.73\n",
      "Name: OrderTotal, Length: 4976, dtype: float64\n"
     ]
    }
   ],
   "source": [
    "print(df['OrderTotal'])"
   ]
  },
  {
   "cell_type": "code",
   "execution_count": 4,
   "metadata": {},
   "outputs": [],
   "source": [
    "df['Price'] = df['Price'].astype(str).str.replace(r'[\\s\"$#,]', '', regex=True).astype(float)"
   ]
  },
  {
   "cell_type": "code",
   "execution_count": 5,
   "metadata": {},
   "outputs": [],
   "source": [
    "df['Discount'] = df['Discount'].astype(str).str.replace(r'[\\s\"$#,]', '', regex=True).astype(float)"
   ]
  },
  {
   "cell_type": "code",
   "execution_count": 6,
   "metadata": {},
   "outputs": [
    {
     "data": {
      "text/html": [
       "<div>\n",
       "<style scoped>\n",
       "    .dataframe tbody tr th:only-of-type {\n",
       "        vertical-align: middle;\n",
       "    }\n",
       "\n",
       "    .dataframe tbody tr th {\n",
       "        vertical-align: top;\n",
       "    }\n",
       "\n",
       "    .dataframe thead th {\n",
       "        text-align: right;\n",
       "    }\n",
       "</style>\n",
       "<table border=\"1\" class=\"dataframe\">\n",
       "  <thead>\n",
       "    <tr style=\"text-align: right;\">\n",
       "      <th></th>\n",
       "      <th>EmpID</th>\n",
       "      <th>OrderNum</th>\n",
       "      <th>OrderDate</th>\n",
       "      <th>OrderType</th>\n",
       "      <th>Quantity</th>\n",
       "      <th>Price</th>\n",
       "      <th>Discount</th>\n",
       "      <th>OrderTotal</th>\n",
       "    </tr>\n",
       "  </thead>\n",
       "  <tbody>\n",
       "    <tr>\n",
       "      <th>0</th>\n",
       "      <td>900015476</td>\n",
       "      <td>1100948</td>\n",
       "      <td>9/3/2017</td>\n",
       "      <td>Retail</td>\n",
       "      <td>1</td>\n",
       "      <td>44.95</td>\n",
       "      <td>0.0</td>\n",
       "      <td>44.95</td>\n",
       "    </tr>\n",
       "    <tr>\n",
       "      <th>1</th>\n",
       "      <td>900015476</td>\n",
       "      <td>1101096</td>\n",
       "      <td>9/24/2017</td>\n",
       "      <td>Wholesale</td>\n",
       "      <td>10</td>\n",
       "      <td>4.99</td>\n",
       "      <td>1.0</td>\n",
       "      <td>48.90</td>\n",
       "    </tr>\n",
       "    <tr>\n",
       "      <th>2</th>\n",
       "      <td>900015476</td>\n",
       "      <td>1101138</td>\n",
       "      <td>10/1/2017</td>\n",
       "      <td>Wholesale</td>\n",
       "      <td>4</td>\n",
       "      <td>250.00</td>\n",
       "      <td>50.0</td>\n",
       "      <td>950.00</td>\n",
       "    </tr>\n",
       "    <tr>\n",
       "      <th>3</th>\n",
       "      <td>900015476</td>\n",
       "      <td>1101158</td>\n",
       "      <td>10/3/2017</td>\n",
       "      <td>Retail</td>\n",
       "      <td>1</td>\n",
       "      <td>250.00</td>\n",
       "      <td>0.0</td>\n",
       "      <td>250.00</td>\n",
       "    </tr>\n",
       "    <tr>\n",
       "      <th>4</th>\n",
       "      <td>900015476</td>\n",
       "      <td>1101181</td>\n",
       "      <td>10/9/2017</td>\n",
       "      <td>Retail</td>\n",
       "      <td>1</td>\n",
       "      <td>13.99</td>\n",
       "      <td>0.0</td>\n",
       "      <td>13.99</td>\n",
       "    </tr>\n",
       "  </tbody>\n",
       "</table>\n",
       "</div>"
      ],
      "text/plain": [
       "       EmpID  OrderNum  OrderDate  OrderType  Quantity   Price  Discount  \\\n",
       "0  900015476   1100948   9/3/2017     Retail         1   44.95       0.0   \n",
       "1  900015476   1101096  9/24/2017  Wholesale        10    4.99       1.0   \n",
       "2  900015476   1101138  10/1/2017  Wholesale         4  250.00      50.0   \n",
       "3  900015476   1101158  10/3/2017     Retail         1  250.00       0.0   \n",
       "4  900015476   1101181  10/9/2017     Retail         1   13.99       0.0   \n",
       "\n",
       "   OrderTotal  \n",
       "0       44.95  \n",
       "1       48.90  \n",
       "2      950.00  \n",
       "3      250.00  \n",
       "4       13.99  "
      ]
     },
     "execution_count": 6,
     "metadata": {},
     "output_type": "execute_result"
    }
   ],
   "source": [
    "df.head()"
   ]
  },
  {
   "cell_type": "code",
   "execution_count": 7,
   "metadata": {},
   "outputs": [
    {
     "name": "stdout",
     "output_type": "stream",
     "text": [
      "<class 'pandas.core.frame.DataFrame'>\n",
      "RangeIndex: 4976 entries, 0 to 4975\n",
      "Data columns (total 8 columns):\n",
      " #   Column      Non-Null Count  Dtype  \n",
      "---  ------      --------------  -----  \n",
      " 0   EmpID       4976 non-null   int64  \n",
      " 1   OrderNum    4976 non-null   int64  \n",
      " 2   OrderDate   4976 non-null   object \n",
      " 3   OrderType   4976 non-null   object \n",
      " 4   Quantity    4976 non-null   int64  \n",
      " 5   Price       4976 non-null   float64\n",
      " 6   Discount    4976 non-null   float64\n",
      " 7   OrderTotal  4976 non-null   float64\n",
      "dtypes: float64(3), int64(3), object(2)\n",
      "memory usage: 311.1+ KB\n"
     ]
    }
   ],
   "source": [
    "df.info()"
   ]
  },
  {
   "cell_type": "code",
   "execution_count": 8,
   "metadata": {},
   "outputs": [],
   "source": [
    "df['OrderDate'] = pd.to_datetime(df['OrderDate'], format='%m/%d/%Y')"
   ]
  },
  {
   "cell_type": "code",
   "execution_count": 9,
   "metadata": {},
   "outputs": [
    {
     "data": {
      "text/html": [
       "<div>\n",
       "<style scoped>\n",
       "    .dataframe tbody tr th:only-of-type {\n",
       "        vertical-align: middle;\n",
       "    }\n",
       "\n",
       "    .dataframe tbody tr th {\n",
       "        vertical-align: top;\n",
       "    }\n",
       "\n",
       "    .dataframe thead th {\n",
       "        text-align: right;\n",
       "    }\n",
       "</style>\n",
       "<table border=\"1\" class=\"dataframe\">\n",
       "  <thead>\n",
       "    <tr style=\"text-align: right;\">\n",
       "      <th></th>\n",
       "      <th>EmpID</th>\n",
       "      <th>OrderNum</th>\n",
       "      <th>OrderDate</th>\n",
       "      <th>OrderType</th>\n",
       "      <th>Quantity</th>\n",
       "      <th>Price</th>\n",
       "      <th>Discount</th>\n",
       "      <th>OrderTotal</th>\n",
       "    </tr>\n",
       "  </thead>\n",
       "  <tbody>\n",
       "    <tr>\n",
       "      <th>0</th>\n",
       "      <td>900015476</td>\n",
       "      <td>1100948</td>\n",
       "      <td>2017-09-03</td>\n",
       "      <td>Retail</td>\n",
       "      <td>1</td>\n",
       "      <td>44.95</td>\n",
       "      <td>0.0</td>\n",
       "      <td>44.95</td>\n",
       "    </tr>\n",
       "    <tr>\n",
       "      <th>1</th>\n",
       "      <td>900015476</td>\n",
       "      <td>1101096</td>\n",
       "      <td>2017-09-24</td>\n",
       "      <td>Wholesale</td>\n",
       "      <td>10</td>\n",
       "      <td>4.99</td>\n",
       "      <td>1.0</td>\n",
       "      <td>48.90</td>\n",
       "    </tr>\n",
       "    <tr>\n",
       "      <th>2</th>\n",
       "      <td>900015476</td>\n",
       "      <td>1101138</td>\n",
       "      <td>2017-10-01</td>\n",
       "      <td>Wholesale</td>\n",
       "      <td>4</td>\n",
       "      <td>250.00</td>\n",
       "      <td>50.0</td>\n",
       "      <td>950.00</td>\n",
       "    </tr>\n",
       "    <tr>\n",
       "      <th>3</th>\n",
       "      <td>900015476</td>\n",
       "      <td>1101158</td>\n",
       "      <td>2017-10-03</td>\n",
       "      <td>Retail</td>\n",
       "      <td>1</td>\n",
       "      <td>250.00</td>\n",
       "      <td>0.0</td>\n",
       "      <td>250.00</td>\n",
       "    </tr>\n",
       "    <tr>\n",
       "      <th>4</th>\n",
       "      <td>900015476</td>\n",
       "      <td>1101181</td>\n",
       "      <td>2017-10-09</td>\n",
       "      <td>Retail</td>\n",
       "      <td>1</td>\n",
       "      <td>13.99</td>\n",
       "      <td>0.0</td>\n",
       "      <td>13.99</td>\n",
       "    </tr>\n",
       "  </tbody>\n",
       "</table>\n",
       "</div>"
      ],
      "text/plain": [
       "       EmpID  OrderNum  OrderDate  OrderType  Quantity   Price  Discount  \\\n",
       "0  900015476   1100948 2017-09-03     Retail         1   44.95       0.0   \n",
       "1  900015476   1101096 2017-09-24  Wholesale        10    4.99       1.0   \n",
       "2  900015476   1101138 2017-10-01  Wholesale         4  250.00      50.0   \n",
       "3  900015476   1101158 2017-10-03     Retail         1  250.00       0.0   \n",
       "4  900015476   1101181 2017-10-09     Retail         1   13.99       0.0   \n",
       "\n",
       "   OrderTotal  \n",
       "0       44.95  \n",
       "1       48.90  \n",
       "2      950.00  \n",
       "3      250.00  \n",
       "4       13.99  "
      ]
     },
     "execution_count": 9,
     "metadata": {},
     "output_type": "execute_result"
    }
   ],
   "source": [
    "df.head()"
   ]
  },
  {
   "cell_type": "code",
   "execution_count": 10,
   "metadata": {},
   "outputs": [
    {
     "name": "stdout",
     "output_type": "stream",
     "text": [
      "<class 'pandas.core.frame.DataFrame'>\n",
      "RangeIndex: 4976 entries, 0 to 4975\n",
      "Data columns (total 8 columns):\n",
      " #   Column      Non-Null Count  Dtype         \n",
      "---  ------      --------------  -----         \n",
      " 0   EmpID       4976 non-null   int64         \n",
      " 1   OrderNum    4976 non-null   int64         \n",
      " 2   OrderDate   4976 non-null   datetime64[ns]\n",
      " 3   OrderType   4976 non-null   object        \n",
      " 4   Quantity    4976 non-null   int64         \n",
      " 5   Price       4976 non-null   float64       \n",
      " 6   Discount    4976 non-null   float64       \n",
      " 7   OrderTotal  4976 non-null   float64       \n",
      "dtypes: datetime64[ns](1), float64(3), int64(3), object(1)\n",
      "memory usage: 311.1+ KB\n"
     ]
    }
   ],
   "source": [
    "df.info()"
   ]
  },
  {
   "cell_type": "code",
   "execution_count": 11,
   "metadata": {},
   "outputs": [],
   "source": [
    "df.to_csv('red_30_tech_us_sales_cleaned.csv', index=False)"
   ]
  }
 ],
 "metadata": {
  "kernelspec": {
   "display_name": "Python 3",
   "language": "python",
   "name": "python3"
  },
  "language_info": {
   "codemirror_mode": {
    "name": "ipython",
    "version": 3
   },
   "file_extension": ".py",
   "mimetype": "text/x-python",
   "name": "python",
   "nbconvert_exporter": "python",
   "pygments_lexer": "ipython3",
   "version": "3.12.1"
  }
 },
 "nbformat": 4,
 "nbformat_minor": 2
}
