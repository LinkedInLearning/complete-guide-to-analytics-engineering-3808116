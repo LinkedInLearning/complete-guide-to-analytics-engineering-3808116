{
 "cells": [
  {
   "cell_type": "code",
   "execution_count": 3,
   "id": "b162c818",
   "metadata": {},
   "outputs": [
    {
     "name": "stdout",
     "output_type": "stream",
     "text": [
      "Hello World\n"
     ]
    }
   ],
   "source": [
    "print('Hello World')"
   ]
  },
  {
   "cell_type": "code",
   "execution_count": 4,
   "id": "031ad76d",
   "metadata": {},
   "outputs": [],
   "source": [
    "name = \"Tom\""
   ]
  },
  {
   "cell_type": "code",
   "execution_count": 5,
   "id": "847bada3",
   "metadata": {},
   "outputs": [],
   "source": [
    "age = 50"
   ]
  },
  {
   "cell_type": "code",
   "execution_count": 6,
   "id": "6a0a2f64",
   "metadata": {},
   "outputs": [],
   "source": [
    "student_status = True"
   ]
  },
  {
   "cell_type": "code",
   "execution_count": 7,
   "id": "631dae16",
   "metadata": {},
   "outputs": [
    {
     "name": "stdout",
     "output_type": "stream",
     "text": [
      "Tom 50 True\n"
     ]
    }
   ],
   "source": [
    "print(name, age, student_status)"
   ]
  },
  {
   "cell_type": "code",
   "execution_count": 8,
   "id": "53018d3b",
   "metadata": {},
   "outputs": [
    {
     "name": "stdout",
     "output_type": "stream",
     "text": [
      "THe number is positive!\n"
     ]
    }
   ],
   "source": [
    "number = 22\n",
    "if number > 0:\n",
    "    print(\"THe number is positive!\")\n",
    "else:\n",
    "    print(\"The number is negative.\")"
   ]
  },
  {
   "cell_type": "code",
   "execution_count": 9,
   "id": "3e7bf5de",
   "metadata": {},
   "outputs": [
    {
     "name": "stdout",
     "output_type": "stream",
     "text": [
      "Iteration: 0\n",
      "Iteration: 1\n",
      "Iteration: 2\n",
      "Iteration: 3\n",
      "Iteration: 4\n",
      "Iteration: 5\n"
     ]
    }
   ],
   "source": [
    "for i in range(6):\n",
    "    print(\"Iteration:\", i)"
   ]
  },
  {
   "cell_type": "code",
   "execution_count": 10,
   "id": "b6b60240",
   "metadata": {},
   "outputs": [
    {
     "name": "stdout",
     "output_type": "stream",
     "text": [
      "pear\n",
      "lemon\n",
      "apricot\n"
     ]
    }
   ],
   "source": [
    "fruits = [\"pear\", \"lemon\", \"apricot\"]\n",
    "for fruit in fruits:\n",
    "    print(fruit)"
   ]
  }
 ],
 "metadata": {
  "kernelspec": {
   "display_name": "Python 3",
   "language": "python",
   "name": "python3"
  },
  "language_info": {
   "codemirror_mode": {
    "name": "ipython",
    "version": 3
   },
   "file_extension": ".py",
   "mimetype": "text/x-python",
   "name": "python",
   "nbconvert_exporter": "python",
   "pygments_lexer": "ipython3",
   "version": "3.12.1"
  }
 },
 "nbformat": 4,
 "nbformat_minor": 5
}
