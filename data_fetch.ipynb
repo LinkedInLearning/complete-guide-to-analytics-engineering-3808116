{
 "cells": [
  {
   "cell_type": "code",
   "execution_count": 2,
   "id": "af579c3a",
   "metadata": {},
   "outputs": [
    {
     "name": "stdout",
     "output_type": "stream",
     "text": [
      "   state_name state_code                                 state_timezone\n",
      "0     Alabama         AL                              Central Time (CT)\n",
      "1      Alaska         AK  Alaska Time (AKT), Hawaii-Aleutian Time (HAT)\n",
      "2     Arizona         AZ                            Mountain Time (MT)*\n",
      "3    Arkansas         AR                              Central Time (CT)\n",
      "4  California         CA                              Pacific Time (PT)\n"
     ]
    }
   ],
   "source": [
    "import pandas as pd\n",
    "\n",
    "def get_data_from_google_sheet(sheet_url):\n",
    "    csv_url = sheet_url.replace('/edit?usp=sharing', '/export?format=csv')\n",
    "    \n",
    "    try:\n",
    "        df = pd.read_csv(csv_url)\n",
    "        \n",
    "        expected_columns = ['state_name', 'state_code', 'state_timezone']\n",
    "        \n",
    "        if all(col in df.columns for col in expected_columns):\n",
    "            df = df[expected_columns]\n",
    "        else:\n",
    "            print(\"Expected columns are not found in the DataFrame\")\n",
    "            return None\n",
    "        \n",
    "        return df\n",
    "    \n",
    "    except Exception as e:\n",
    "        print(f\"Error fetching data: {e}\")\n",
    "        return None\n",
    "\n",
    "sheet_url = \"https://docs.google.com/spreadsheets/d/1I31B5NN7tFYntmATiEE_PiQhZ47DsAXetiDrVsVehfM/edit?usp=sharing\"\n",
    "df = get_data_from_google_sheet(sheet_url)\n",
    "\n",
    "if df is not None:\n",
    "    print(df.head())\n"
   ]
  },
  {
   "cell_type": "code",
   "execution_count": 3,
   "id": "5872d683",
   "metadata": {},
   "outputs": [],
   "source": [
    "import sqlite3\n",
    "conn = sqlite3.connect('database.db')"
   ]
  },
  {
   "cell_type": "code",
   "execution_count": 4,
   "id": "baa33368",
   "metadata": {},
   "outputs": [
    {
     "data": {
      "text/plain": [
       "50"
      ]
     },
     "execution_count": 4,
     "metadata": {},
     "output_type": "execute_result"
    }
   ],
   "source": [
    "df.to_sql('us_state_codes', conn, if_exists='replace',index=False)"
   ]
  }
 ],
 "metadata": {
  "kernelspec": {
   "display_name": "Python 3",
   "language": "python",
   "name": "python3"
  },
  "language_info": {
   "codemirror_mode": {
    "name": "ipython",
    "version": 3
   },
   "file_extension": ".py",
   "mimetype": "text/x-python",
   "name": "python",
   "nbconvert_exporter": "python",
   "pygments_lexer": "ipython3",
   "version": "3.12.1"
  }
 },
 "nbformat": 4,
 "nbformat_minor": 5
}
